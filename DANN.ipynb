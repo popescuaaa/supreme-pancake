{
 "cells": [
  {
   "cell_type": "markdown",
   "id": "3a49595b",
   "metadata": {},
   "source": [
    "### Domain Adversarial Neural Networks\n",
    "\n",
    "We explore here the insigths of learning during the Domain Adapation step in DANN architecture. The work is based on: [this](https://nbviewer.org/github/vistalab-technion/cs236605-tutorials/blob/master/tutorial6/tutorial6-TL_DA.ipynb)"
   ]
  },
  {
   "cell_type": "code",
   "execution_count": 189,
   "id": "5c055b75",
   "metadata": {},
   "outputs": [
    {
     "name": "stdout",
     "output_type": "stream",
     "text": [
      "The current device: cuda\n"
     ]
    }
   ],
   "source": [
    "# General setup\n",
    "import os\n",
    "import sys\n",
    "import torch\n",
    "import numpy as np\n",
    "import seaborn as sns\n",
    "import matplotlib.pyplot as plt\n",
    "from PIL import Image\n",
    "from tqdm import tqdm\n",
    "from sklearn.manifold import TSNE\n",
    "\n",
    "# PyTorch\n",
    "import torch.nn as nn\n",
    "import torch.optim as optim\n",
    "import torchvision as tv\n",
    "import torchvision.transforms as tvtf\n",
    "from torchvision.utils import make_grid\n",
    "from torch.autograd import Function\n",
    "import torch.utils.data as data\n",
    "\n",
    "# Plot display, data and devices\n",
    "%matplotlib inline\n",
    "sns.set()\n",
    "plt.rcParams['font.size'] = 20\n",
    "data_dir = os.path.expanduser('~/.pytorch-datasets')\n",
    "device = torch.device('cuda' if torch.cuda.is_available() else 'cpu')\n",
    "print('The current device: {}'.format(device))\n",
    "\n",
    "# Set random seed\n",
    "torch.manual_seed(0)\n",
    "np.random.seed(0)"
   ]
  },
  {
   "cell_type": "code",
   "execution_count": 96,
   "id": "19f3f28d",
   "metadata": {},
   "outputs": [],
   "source": [
    "# Plot utils\n",
    "def show(img, ax=None):\n",
    "    npimg = img.cpu().numpy()\n",
    "    if ax is None:\n",
    "        ax = plt\n",
    "    ax.imshow(np.transpose(npimg, (1, 2, 0)), interpolation='nearest')"
   ]
  },
  {
   "cell_type": "markdown",
   "id": "910f092c",
   "metadata": {},
   "source": [
    "#### Datasets setup\n",
    "\n",
    "- Source domain: MNIST\n",
    "- Target domain: MNISTM\n"
   ]
  },
  {
   "cell_type": "code",
   "execution_count": 97,
   "id": "2a92bd01",
   "metadata": {},
   "outputs": [],
   "source": [
    "class MNISTMDataset(data.Dataset):\n",
    "    def __init__(self, data_root, data_list, transform=None):\n",
    "        self.root = data_root\n",
    "        self.transform = transform\n",
    "\n",
    "        f = open(data_list, 'r')\n",
    "        data_list = f.readlines()\n",
    "        f.close()\n",
    "\n",
    "        self.n_data = len(data_list)\n",
    "\n",
    "        self.img_paths = []\n",
    "        self.img_labels = []\n",
    "\n",
    "        for data in data_list:\n",
    "            self.img_paths.append(data[:-3])\n",
    "            self.img_labels.append(data[-2])\n",
    "\n",
    "    def __getitem__(self, item):\n",
    "        img_paths, labels = self.img_paths[item], self.img_labels[item]\n",
    "        imgs = Image.open(os.path.join(self.root, img_paths)).convert('RGB')\n",
    "\n",
    "        if self.transform is not None:\n",
    "            imgs = self.transform(imgs)\n",
    "            labels = int(labels)\n",
    "\n",
    "        return imgs, labels\n",
    "\n",
    "    def __len__(self):\n",
    "        return self.n_data"
   ]
  },
  {
   "cell_type": "code",
   "execution_count": 98,
   "id": "91b3b715",
   "metadata": {},
   "outputs": [],
   "source": [
    "image_size = 28\n",
    "batch_size = 4\n",
    "\n",
    "data_dir = \"./data/\"\n",
    "\n",
    "# Transformations\n",
    "tf_source = tvtf.Compose([\n",
    "    tvtf.Resize(image_size),\n",
    "    tvtf.ToTensor(),\n",
    "    tvtf.Normalize(mean=(0.1307,), std=(0.3081,)) # classical std and mean for MNIST\n",
    "])\n",
    "\n",
    "tf_target = tvtf.Compose([\n",
    "    tvtf.Resize(image_size),\n",
    "    tvtf.ToTensor(),\n",
    "    tvtf.Normalize(mean=(0.5, 0.5, 0.5), std=(0.5, 0.5, 0.5))\n",
    "])\n"
   ]
  },
  {
   "cell_type": "code",
   "execution_count": 99,
   "id": "901dca68",
   "metadata": {},
   "outputs": [],
   "source": [
    "# MNIST\n",
    "ds_source = tv.datasets.MNIST(root= data_dir + \"mnist\", train=True, transform=tf_source, download=True)\n",
    "dl_source = torch.utils.data.DataLoader(ds_source, batch_size)"
   ]
  },
  {
   "cell_type": "code",
   "execution_count": 100,
   "id": "843c5802",
   "metadata": {},
   "outputs": [],
   "source": [
    "ds_target = MNISTMDataset(os.path.join(data_dir, 'mnist_m', 'mnist_m_train'),\n",
    "                          os.path.join(data_dir, 'mnist_m', 'mnist_m_train_labels.txt'),\n",
    "                         transform=tf_target)\n",
    "\n",
    "dl_target = torch.utils.data.DataLoader(ds_target, batch_size)"
   ]
  },
  {
   "cell_type": "code",
   "execution_count": 101,
   "id": "681b00ea",
   "metadata": {},
   "outputs": [
    {
     "data": {
      "image/png": "[encoded data removed]",
      "text/plain": [
       "<Figure size 640x480 with 1 Axes>"
      ]
     },
     "metadata": {},
     "output_type": "display_data"
    }
   ],
   "source": [
    "# Plot some images from these datasets\n",
    "mnist_sample = ds_source[100][0]\n",
    "show(mnist_sample)"
   ]
  },
  {
   "cell_type": "code",
   "execution_count": 102,
   "id": "c69bdba7",
   "metadata": {},
   "outputs": [
    {
     "name": "stderr",
     "output_type": "stream",
     "text": [
      "Clipping input data to the valid range for imshow with RGB data ([0..1] for floats or [0..255] for integers).\n"
     ]
    },
    {
     "name": "stdout",
     "output_type": "stream",
     "text": [
      "Label: 3\n"
     ]
    },
    {
     "data": {
      "image/png": "[encoded data removed]",
      "text/plain": [
       "<Figure size 640x480 with 1 Axes>"
      ]
     },
     "metadata": {},
     "output_type": "display_data"
    }
   ],
   "source": [
    "mnistm_sample, label = ds_target[10]\n",
    "print(\"Label: {}\".format(label))\n",
    "show(mnistm_sample)"
   ]
  },
  {
   "cell_type": "code",
   "execution_count": 103,
   "id": "65d641d1",
   "metadata": {},
   "outputs": [],
   "source": [
    "\n",
    "# Autograd Function objects are what record operation history on tensors,\n",
    "# and define formulas for the forward and backprop.\n",
    "\n",
    "class GradientReversalFn(Function):\n",
    "    @staticmethod\n",
    "    def forward(ctx, x, alpha):\n",
    "        # Store context for backprop\n",
    "        ctx.alpha = alpha\n",
    "        \n",
    "        # Forward pass is a no-op\n",
    "        return x.view_as(x)\n",
    "\n",
    "    @staticmethod\n",
    "    def backward(ctx, grad_output):\n",
    "        # Backward pass is just to -alpha the gradient\n",
    "        output = grad_output.neg() * ctx.alpha\n",
    "\n",
    "        # Must return same number as inputs to forward()\n",
    "        return output, None"
   ]
  },
  {
   "cell_type": "code",
   "execution_count": 126,
   "id": "98c264d8",
   "metadata": {},
   "outputs": [],
   "source": [
    "class DACNN(nn.Module):\n",
    "    def __init__(self):\n",
    "        super().__init__()\n",
    "        self.feature_extractor = nn.Sequential(\n",
    "            nn.Conv2d(3, 64, kernel_size=5),\n",
    "            nn.BatchNorm2d(64), \n",
    "            nn.MaxPool2d(2),\n",
    "            nn.ReLU(True),\n",
    "            nn.Conv2d(64, 50, kernel_size=5),\n",
    "            nn.BatchNorm2d(50), \n",
    "            nn.Dropout(), \n",
    "            nn.MaxPool2d(2),\n",
    "            nn.ReLU(True),\n",
    "        )\n",
    "        \n",
    "        self.class_classifier = nn.Sequential(\n",
    "            nn.Linear(50 * 4 * 4, 100), \n",
    "            nn.BatchNorm1d(100), \n",
    "            nn.Dropout(),\n",
    "            nn.ReLU(True),\n",
    "            nn.Linear(100, 100), \n",
    "            nn.BatchNorm1d(100),\n",
    "            nn.ReLU(True),\n",
    "            nn.Linear(100, 10),\n",
    "            nn.LogSoftmax(dim=1),\n",
    "        )\n",
    "        \n",
    "        self.domain_classifier = nn.Sequential(\n",
    "            nn.Linear(50 * 4 * 4, 100), \n",
    "            nn.BatchNorm1d(100),\n",
    "            nn.ReLU(True),\n",
    "            nn.Linear(100, 2),\n",
    "            nn.LogSoftmax(dim=1),\n",
    "        )\n",
    "    \n",
    "    def extract_features(self, x: torch.Tensor) -> torch.Tensor:\n",
    "        x = x.expand(x.data.shape[0], 3, image_size, image_size)\n",
    "        features = self.feature_extractor(x)\n",
    "        features = features.view(-1, 50 * 4 * 4)\n",
    "        features = features.detach().cpu()\n",
    "        return features\n",
    "    \n",
    "    def forward(self, x, grl_lambda=1.0):\n",
    "        # print('Input shape', x.shape)\n",
    "        \n",
    "        # Handle single-channel input by expanding (repeating) the singleton dimention\n",
    "        x = x.expand(x.data.shape[0], 3, image_size, image_size)\n",
    "        \n",
    "        features = self.feature_extractor(x)\n",
    "        features = features.view(-1, 50 * 4 * 4)\n",
    "        reverse_features = GradientReversalFn.apply(features, grl_lambda)\n",
    "#         print(reverse_features.shape)\n",
    "#         print(features.shape)\n",
    "        \n",
    "        class_pred = self.class_classifier(features)\n",
    "        domain_pred = self.domain_classifier(reverse_features)\n",
    "        return class_pred, domain_pred"
   ]
  },
  {
   "cell_type": "code",
   "execution_count": 127,
   "id": "2473bd75",
   "metadata": {},
   "outputs": [],
   "source": [
    "model = DACNN()\n",
    "lr = 1e-3\n",
    "n_epochs = 10\n",
    "\n",
    "# Setup optimizer as usual\n",
    "model = DACNN()\n",
    "optimizer = optim.Adam(model.parameters(), lr)\n",
    "\n",
    "# Two losses functions this time\n",
    "loss_fn_class = torch.nn.NLLLoss()\n",
    "loss_fn_domain = torch.nn.NLLLoss()"
   ]
  },
  {
   "cell_type": "code",
   "execution_count": 106,
   "id": "689f2271",
   "metadata": {},
   "outputs": [
    {
     "data": {
      "text/plain": [
       "1475"
      ]
     },
     "execution_count": 106,
     "metadata": {},
     "output_type": "execute_result"
    }
   ],
   "source": [
    "# We'll train the same number of batches from both datasets\n",
    "max_batches = min(len(dl_source), len(dl_target)) // 10\n",
    "max_batches"
   ]
  },
  {
   "cell_type": "code",
   "execution_count": 107,
   "id": "dc1fad44",
   "metadata": {},
   "outputs": [
    {
     "name": "stdout",
     "output_type": "stream",
     "text": [
      "Epoch 0001 / 0010\n",
      "=================\n"
     ]
    },
    {
     "name": "stderr",
     "output_type": "stream",
     "text": [
      "Iterating...: 100%|██████████████████████████████████████████████████████████████████████████████████████████████████████████| 1475/1475 [00:15<00:00, 97.04it/s]\n"
     ]
    },
    {
     "name": "stdout",
     "output_type": "stream",
     "text": [
      "Epoch 0: Target domain loss: 0.6302485466003418 | Source domain loss: 0.7820154428482056 | Source class loss: 1.763522982597351\n",
      "Epoch 0002 / 0010\n",
      "=================\n"
     ]
    },
    {
     "name": "stderr",
     "output_type": "stream",
     "text": [
      "Iterating...: 100%|██████████████████████████████████████████████████████████████████████████████████████████████████████████| 1475/1475 [00:15<00:00, 97.04it/s]\n"
     ]
    },
    {
     "name": "stdout",
     "output_type": "stream",
     "text": [
      "Epoch 1: Target domain loss: 0.5255299210548401 | Source domain loss: 0.8355673551559448 | Source class loss: 1.0668067932128906\n",
      "Epoch 0003 / 0010\n",
      "=================\n"
     ]
    },
    {
     "name": "stderr",
     "output_type": "stream",
     "text": [
      "Iterating...: 100%|█████████████████████████████████████████████████████████████████████████████████████████████████████████| 1475/1475 [00:14<00:00, 100.41it/s]\n"
     ]
    },
    {
     "name": "stdout",
     "output_type": "stream",
     "text": [
      "Epoch 2: Target domain loss: 0.4485916495323181 | Source domain loss: 0.8189272880554199 | Source class loss: 0.8617326021194458\n",
      "Epoch 0004 / 0010\n",
      "=================\n"
     ]
    },
    {
     "name": "stderr",
     "output_type": "stream",
     "text": [
      "Iterating...: 100%|█████████████████████████████████████████████████████████████████████████████████████████████████████████| 1475/1475 [00:14<00:00, 100.60it/s]\n"
     ]
    },
    {
     "name": "stdout",
     "output_type": "stream",
     "text": [
      "Epoch 3: Target domain loss: 0.49730467796325684 | Source domain loss: 0.6616769433021545 | Source class loss: 2.3452627658843994\n",
      "Epoch 0005 / 0010\n",
      "=================\n"
     ]
    },
    {
     "name": "stderr",
     "output_type": "stream",
     "text": [
      "Iterating...: 100%|█████████████████████████████████████████████████████████████████████████████████████████████████████████| 1475/1475 [00:14<00:00, 102.70it/s]\n"
     ]
    },
    {
     "name": "stdout",
     "output_type": "stream",
     "text": [
      "Epoch 4: Target domain loss: 0.5139743089675903 | Source domain loss: 0.6454841494560242 | Source class loss: 1.2226016521453857\n",
      "Epoch 0006 / 0010\n",
      "=================\n"
     ]
    },
    {
     "name": "stderr",
     "output_type": "stream",
     "text": [
      "Iterating...: 100%|█████████████████████████████████████████████████████████████████████████████████████████████████████████| 1475/1475 [00:14<00:00, 103.54it/s]\n"
     ]
    },
    {
     "name": "stdout",
     "output_type": "stream",
     "text": [
      "Epoch 5: Target domain loss: 0.6239690780639648 | Source domain loss: 0.998106837272644 | Source class loss: 0.31702128052711487\n",
      "Epoch 0007 / 0010\n",
      "=================\n"
     ]
    },
    {
     "name": "stderr",
     "output_type": "stream",
     "text": [
      "Iterating...: 100%|█████████████████████████████████████████████████████████████████████████████████████████████████████████| 1475/1475 [00:13<00:00, 105.53it/s]\n"
     ]
    },
    {
     "name": "stdout",
     "output_type": "stream",
     "text": [
      "Epoch 6: Target domain loss: 0.4144788384437561 | Source domain loss: 0.5676321387290955 | Source class loss: 1.0991835594177246\n",
      "Epoch 0008 / 0010\n",
      "=================\n"
     ]
    },
    {
     "name": "stderr",
     "output_type": "stream",
     "text": [
      "Iterating...: 100%|█████████████████████████████████████████████████████████████████████████████████████████████████████████| 1475/1475 [00:13<00:00, 106.18it/s]\n"
     ]
    },
    {
     "name": "stdout",
     "output_type": "stream",
     "text": [
      "Epoch 7: Target domain loss: 0.6965479850769043 | Source domain loss: 0.8487173914909363 | Source class loss: 0.7879576683044434\n",
      "Epoch 0009 / 0010\n",
      "=================\n"
     ]
    },
    {
     "name": "stderr",
     "output_type": "stream",
     "text": [
      "Iterating...: 100%|█████████████████████████████████████████████████████████████████████████████████████████████████████████| 1475/1475 [00:13<00:00, 105.80it/s]\n"
     ]
    },
    {
     "name": "stdout",
     "output_type": "stream",
     "text": [
      "Epoch 8: Target domain loss: 0.5439856052398682 | Source domain loss: 0.5773493647575378 | Source class loss: 0.08776303380727768\n",
      "Epoch 0010 / 0010\n",
      "=================\n"
     ]
    },
    {
     "name": "stderr",
     "output_type": "stream",
     "text": [
      "Iterating...: 100%|█████████████████████████████████████████████████████████████████████████████████████████████████████████| 1475/1475 [00:14<00:00, 104.20it/s]"
     ]
    },
    {
     "name": "stdout",
     "output_type": "stream",
     "text": [
      "Epoch 9: Target domain loss: 0.5847031474113464 | Source domain loss: 0.8679344654083252 | Source class loss: 1.2115331888198853\n"
     ]
    },
    {
     "name": "stderr",
     "output_type": "stream",
     "text": [
      "\n"
     ]
    }
   ],
   "source": [
    "for epoch_idx in range(n_epochs):\n",
    "    \n",
    "    print(f'Epoch {epoch_idx+1:04d} / {n_epochs:04d}', end='\\n=================\\n')\n",
    "    \n",
    "    dl_source_iter = iter(dl_source)\n",
    "    dl_target_iter = iter(dl_target)\n",
    "    \n",
    "    # Keep track of loss values for progress\n",
    "    running_class_loss = []\n",
    "    running_domain_loss = []\n",
    "    running_total_loss = []\n",
    "    \n",
    "    for batch_idx in tqdm(range(max_batches), total=max_batches, desc='Iterating...'):\n",
    "        optimizer.zero_grad()\n",
    "        \n",
    "        # Training progress and GRL lambda\n",
    "        p = float(batch_idx + epoch_idx * max_batches) / (n_epochs * max_batches)\n",
    "        grl_lambda = 2. / (1. + np.exp(-10 * p)) - 1\n",
    "\n",
    "        # Train on source domain\n",
    "        X_s, y_s = next(dl_source_iter)\n",
    "        y_s_domain = torch.zeros(batch_size, dtype=torch.long) # generate source domain labels\n",
    "\n",
    "        class_pred, domain_pred = model(X_s, grl_lambda)\n",
    "        loss_s_label = loss_fn_class(class_pred, y_s)\n",
    "        loss_s_domain = loss_fn_domain(domain_pred, y_s_domain)\n",
    "\n",
    "        # Train on target domain\n",
    "        X_t, _ = next(dl_target_iter) # ignore target domain class labels!\n",
    "        y_t_domain = torch.ones(batch_size, dtype=torch.long) # generate target domain labels\n",
    "\n",
    "        _, domain_pred = model(X_t, grl_lambda)\n",
    "        loss_t_domain = loss_fn_domain(domain_pred, y_t_domain)\n",
    "        \n",
    "        loss = loss_t_domain + loss_s_domain + loss_s_label\n",
    "        loss.backward()\n",
    "        optimizer.step()\n",
    "        \n",
    "    print(\n",
    "        'Epoch {}: Target domain loss: {} | Source domain loss: {} | Source class loss: {}'.format(\n",
    "            epoch_idx,\n",
    "            loss_t_domain,\n",
    "            loss_s_domain,\n",
    "            loss_s_label\n",
    "        )\n",
    "    )\n",
    "\n",
    "# Save the model\n",
    "\n",
    "PATH = './models/dacnn_{}_{}_max_batches_{}.pth'.format(n_epochs, lr, max_batches)\n",
    "torch.save(model.state_dict(), PATH)"
   ]
  },
  {
   "cell_type": "code",
   "execution_count": 90,
   "id": "8666c1ed",
   "metadata": {},
   "outputs": [
    {
     "name": "stdout",
     "output_type": "stream",
     "text": [
      "Input shape: torch.Size([1, 28, 28])\n"
     ]
    }
   ],
   "source": [
    "# Test the model with one sample\n",
    "print(\"Input shape: {}\".format(mnist_sample.shape))\n",
    "cls, dom = model(mnistm_sample)"
   ]
  },
  {
   "cell_type": "code",
   "execution_count": 91,
   "id": "2cd53a2d",
   "metadata": {},
   "outputs": [
    {
     "data": {
      "text/plain": [
       "torch.Size([3, 10])"
      ]
     },
     "execution_count": 91,
     "metadata": {},
     "output_type": "execute_result"
    }
   ],
   "source": [
    "cls.shape"
   ]
  },
  {
   "cell_type": "code",
   "execution_count": 92,
   "id": "a1cac398",
   "metadata": {},
   "outputs": [],
   "source": [
    "cls = torch.sum(cls, dim=0)\n",
    "_, class_prediction = torch.max(cls, dim=0)"
   ]
  },
  {
   "cell_type": "code",
   "execution_count": 93,
   "id": "5257586f",
   "metadata": {},
   "outputs": [
    {
     "data": {
      "text/plain": [
       "tensor(9)"
      ]
     },
     "execution_count": 93,
     "metadata": {},
     "output_type": "execute_result"
    }
   ],
   "source": [
    "class_prediction"
   ]
  },
  {
   "cell_type": "code",
   "execution_count": 94,
   "id": "6eed620c",
   "metadata": {},
   "outputs": [
    {
     "data": {
      "text/plain": [
       "tensor(1)"
      ]
     },
     "execution_count": 94,
     "metadata": {},
     "output_type": "execute_result"
    }
   ],
   "source": [
    "dom = torch.sum(dom, dim=0)\n",
    "_, domain_prediction = torch.max(dom, dim=0)\n",
    "domain_prediction"
   ]
  },
  {
   "cell_type": "markdown",
   "id": "3c84aba5",
   "metadata": {},
   "source": [
    "### Vizualizing the overlapping of the two domains"
   ]
  },
  {
   "cell_type": "code",
   "execution_count": 181,
   "id": "9178b7c2",
   "metadata": {},
   "outputs": [],
   "source": [
    "num_samples = 20\n",
    "rand_samples_indexes = np.random.randint(1, min(len(ds_source), len(ds_target)), num_samples)\n",
    "\n",
    "mnist_samples = [\n",
    "    ds_source[random_index][0] for random_index in rand_samples_indexes\n",
    "]\n",
    "mnistm_samples = [\n",
    "    ds_target[random_index][0] for random_index in rand_samples_indexes\n",
    "]"
   ]
  },
  {
   "cell_type": "code",
   "execution_count": 182,
   "id": "0934c32b",
   "metadata": {},
   "outputs": [],
   "source": [
    "# Extract features from the latent space of the feature extractor\n",
    "mnist_sample_features = np.array([\n",
    "    model.extract_features(sample) for sample in mnist_samples\n",
    "])\n",
    "\n",
    "\n",
    "mnist_sample_features = np.array([\n",
    "    sample.reshape(\n",
    "        sample.shape[0] * sample.shape[1]\n",
    "    )\n",
    "    for sample in mnist_sample_features\n",
    "])\n",
    "\n",
    "\n",
    "mnistm_sample_features = np.array([\n",
    "    model.extract_features(sample) for sample in mnistm_samples\n",
    "])\n",
    "\n",
    "\n",
    "mnistm_sample_features = np.array([\n",
    "    sample.reshape(\n",
    "        sample.shape[0] * sample.shape[1]\n",
    "    )\n",
    "    for sample in mnistm_sample_features\n",
    "])\n"
   ]
  },
  {
   "cell_type": "code",
   "execution_count": 183,
   "id": "98c28ee0",
   "metadata": {},
   "outputs": [
    {
     "name": "stdout",
     "output_type": "stream",
     "text": [
      "[t-SNE] Computing 10 nearest neighbors...\n",
      "[t-SNE] Indexed 20 samples in 0.000s...\n",
      "[t-SNE] Computed neighbors for 20 samples in 0.010s...\n",
      "[t-SNE] Computed conditional probabilities for sample 20 / 20\n",
      "[t-SNE] Mean sigma: 8.178373\n",
      "[t-SNE] KL divergence after 250 iterations with early exaggeration: 62.177345\n",
      "[t-SNE] KL divergence after 1000 iterations: 0.271296\n",
      "[t-SNE] Computing 10 nearest neighbors...\n",
      "[t-SNE] Indexed 20 samples in 0.000s...\n",
      "[t-SNE] Computed neighbors for 20 samples in 0.024s...\n",
      "[t-SNE] Computed conditional probabilities for sample 20 / 20\n",
      "[t-SNE] Mean sigma: 12.987738\n",
      "[t-SNE] KL divergence after 250 iterations with early exaggeration: 58.917072\n",
      "[t-SNE] KL divergence after 1000 iterations: 0.302438\n"
     ]
    }
   ],
   "source": [
    "mnist_sample_features = TSNE(n_components=2, learning_rate='auto', init='random', perplexity=3, verbose=True).fit_transform(mnist_sample_features)\n",
    "mnistm_sample_features = TSNE(n_components=2, learning_rate='auto', init='random', perplexity=3, verbose=True).fit_transform(mnistm_sample_features)"
   ]
  },
  {
   "cell_type": "code",
   "execution_count": 190,
   "id": "a9415e2c",
   "metadata": {},
   "outputs": [
    {
     "data": {
      "text/plain": [
       "array([110.129524,   2.015873], dtype=float32)"
      ]
     },
     "execution_count": 190,
     "metadata": {},
     "output_type": "execute_result"
    }
   ],
   "source": [
    "mnist_sample_features[0]"
   ]
  },
  {
   "cell_type": "code",
   "execution_count": 194,
   "id": "7c470e86",
   "metadata": {},
   "outputs": [
    {
     "data": {
      "image/png": "[encoded data removed]",
      "text/plain": [
       "<Figure size 640x480 with 1 Axes>"
      ]
     },
     "metadata": {},
     "output_type": "display_data"
    }
   ],
   "source": [
    "m = sns.scatterplot(x = mnist_sample_features[:, 0], \n",
    "                y = mnist_sample_features[: ,1],\n",
    "               )\n",
    "mm = sns.scatterplot(x = mnistm_sample_features[:, 0], \n",
    "                y = mnistm_sample_features[: ,1],\n",
    ")\n",
    "\n",
    "plt.legend(title='MNIST/MNISTM overlapping after 10 epochs', loc='best', labels=['MNIST', 'MNISTM'])\n",
    "plt.show(mm)"
   ]
  },
  {
   "cell_type": "code",
   "execution_count": null,
   "id": "8bb40a00",
   "metadata": {},
   "outputs": [],
   "source": []
  }
 ],
 "metadata": {
  "kernelspec": {
   "display_name": "Python 3 (ipykernel)",
   "language": "python",
   "name": "python3"
  },
  "language_info": {
   "codemirror_mode": {
    "name": "ipython",
    "version": 3
   },
   "file_extension": ".py",
   "mimetype": "text/x-python",
   "name": "python",
   "nbconvert_exporter": "python",
   "pygments_lexer": "ipython3",
   "version": "3.10.12"
  }
 },
 "nbformat": 4,
 "nbformat_minor": 5
}
